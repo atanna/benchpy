{
 "cells": [
  {
   "cell_type": "code",
   "execution_count": 1,
   "metadata": {
    "collapsed": false
   },
   "outputs": [],
   "source": [
    "%matplotlib inline\n",
    "import subprocess\n",
    "import sys\n",
    "import numpy as np\n",
    "import pandas as pd\n",
    "import pylab as plt\n",
    "from collections import namedtuple\n"
   ]
  },
  {
   "cell_type": "code",
   "execution_count": 2,
   "metadata": {
    "collapsed": true
   },
   "outputs": [],
   "source": [
    "cols = \"allocated, reclaimed, highwater, curr_allocated, b_allocate_clocks, b_available_blocks, b_unused_pools, b_lost_pool_headers, b_lost_quantization, b_lost_arena_alignment, total\".split(', ')"
   ]
  },
  {
   "cell_type": "code",
   "execution_count": 3,
   "metadata": {
    "collapsed": false
   },
   "outputs": [],
   "source": [
    "def get_meminfo():\n",
    "    p = subprocess.Popen([sys.executable, \"-c\", \"import sys; sys._debugmallocstats()\"],\n",
    "                     stderr=subprocess.PIPE)\n",
    "    s = p.stderr.read().decode(\"utf-8\").split(sep='\\n')\n",
    "    shift = 4\n",
    "    table = np.c_[[np.array(s[n_class + shift].split()).astype(np.int)\n",
    "              for n_class in range(62)]]\n",
    "    \n",
    "    i_alloc = shift + len(table) + 1\n",
    "    df_blocks = pd.DataFrame(table, columns=[\"class\", \"size\", \"n_pools\", \"use_blocks\", \"avail_blocks\"]).set_index('class')\n",
    "    df = pd.DataFrame([[float(s[i].split()[-1].replace(',', '')) for i in list(range(i_alloc, i_alloc+4))+list(range(i_alloc+6, i_alloc+13))]], columns=cols)\n",
    "    return df_blocks, df "
   ]
  },
  {
   "cell_type": "code",
   "execution_count": null,
   "metadata": {
    "collapsed": false
   },
   "outputs": [],
   "source": []
  },
  {
   "cell_type": "code",
   "execution_count": null,
   "metadata": {
    "collapsed": true
   },
   "outputs": [],
   "source": []
  },
  {
   "cell_type": "code",
   "execution_count": 4,
   "metadata": {
    "collapsed": false
   },
   "outputs": [],
   "source": [
    "import benchpy as bp\n",
    "from examples.bp_samples import cycle_list, html_parse"
   ]
  },
  {
   "cell_type": "code",
   "execution_count": 5,
   "metadata": {
    "collapsed": false
   },
   "outputs": [],
   "source": [
    "from io import StringIO\n",
    "import os \n",
    "\n",
    "data = StringIO(open(\n",
    "        os.path.join(\"examples/data\",\n",
    "                     \"html5lib_spec.html\")).read())\n",
    "f_html = bp.bench(html_parse, data).f"
   ]
  },
  {
   "cell_type": "code",
   "execution_count": 6,
   "metadata": {
    "collapsed": true
   },
   "outputs": [],
   "source": [
    "batch_sizes = range(1, 100, 10)"
   ]
  },
  {
   "cell_type": "code",
   "execution_count": 7,
   "metadata": {
    "collapsed": false
   },
   "outputs": [],
   "source": [
    "# f = bp.bench(cycle_list, 100).f\n",
    "f = f_html"
   ]
  },
  {
   "cell_type": "code",
   "execution_count": 8,
   "metadata": {
    "collapsed": true
   },
   "outputs": [],
   "source": [
    "df_blocks_start,_ = get_meminfo()"
   ]
  },
  {
   "cell_type": "code",
   "execution_count": 9,
   "metadata": {
    "collapsed": false
   },
   "outputs": [],
   "source": [
    "res = []\n",
    "df = pd.DataFrame(columns=cols)\n",
    "for batch in batch_sizes:\n",
    "    t = bp.get_time_perf_counter(f, batch)\n",
    "    _df_blocks, _df = get_meminfo()\n",
    "    df = df.append(_df, ignore_index=True)\n",
    "    res.append([batch, t])\n",
    "res = np.array(res)    "
   ]
  },
  {
   "cell_type": "code",
   "execution_count": 10,
   "metadata": {
    "collapsed": false
   },
   "outputs": [
    {
     "data": {
      "text/html": [
       "<div>\n",
       "<table border=\"1\" class=\"dataframe\">\n",
       "  <thead>\n",
       "    <tr style=\"text-align: right;\">\n",
       "      <th></th>\n",
       "      <th>batch</th>\n",
       "      <th>time</th>\n",
       "      <th>allocated</th>\n",
       "      <th>reclaimed</th>\n",
       "      <th>highwater</th>\n",
       "      <th>curr_allocated</th>\n",
       "      <th>b_allocate_clocks</th>\n",
       "      <th>b_available_blocks</th>\n",
       "      <th>b_unused_pools</th>\n",
       "      <th>b_lost_pool_headers</th>\n",
       "      <th>b_lost_quantization</th>\n",
       "      <th>b_lost_arena_alignment</th>\n",
       "      <th>total</th>\n",
       "    </tr>\n",
       "  </thead>\n",
       "  <tbody>\n",
       "    <tr>\n",
       "      <th>0</th>\n",
       "      <td>1</td>\n",
       "      <td>63.963441</td>\n",
       "      <td>8</td>\n",
       "      <td>2</td>\n",
       "      <td>6</td>\n",
       "      <td>6</td>\n",
       "      <td>1274776</td>\n",
       "      <td>116368</td>\n",
       "      <td>147456</td>\n",
       "      <td>16704</td>\n",
       "      <td>17560</td>\n",
       "      <td>0</td>\n",
       "      <td>1572864</td>\n",
       "    </tr>\n",
       "    <tr>\n",
       "      <th>1</th>\n",
       "      <td>11</td>\n",
       "      <td>0.057733</td>\n",
       "      <td>8</td>\n",
       "      <td>2</td>\n",
       "      <td>6</td>\n",
       "      <td>6</td>\n",
       "      <td>1274776</td>\n",
       "      <td>116368</td>\n",
       "      <td>147456</td>\n",
       "      <td>16704</td>\n",
       "      <td>17560</td>\n",
       "      <td>0</td>\n",
       "      <td>1572864</td>\n",
       "    </tr>\n",
       "    <tr>\n",
       "      <th>2</th>\n",
       "      <td>21</td>\n",
       "      <td>0.169940</td>\n",
       "      <td>8</td>\n",
       "      <td>2</td>\n",
       "      <td>6</td>\n",
       "      <td>6</td>\n",
       "      <td>1274776</td>\n",
       "      <td>116368</td>\n",
       "      <td>147456</td>\n",
       "      <td>16704</td>\n",
       "      <td>17560</td>\n",
       "      <td>0</td>\n",
       "      <td>1572864</td>\n",
       "    </tr>\n",
       "    <tr>\n",
       "      <th>3</th>\n",
       "      <td>31</td>\n",
       "      <td>0.315352</td>\n",
       "      <td>8</td>\n",
       "      <td>2</td>\n",
       "      <td>6</td>\n",
       "      <td>6</td>\n",
       "      <td>1274776</td>\n",
       "      <td>116368</td>\n",
       "      <td>147456</td>\n",
       "      <td>16704</td>\n",
       "      <td>17560</td>\n",
       "      <td>0</td>\n",
       "      <td>1572864</td>\n",
       "    </tr>\n",
       "    <tr>\n",
       "      <th>4</th>\n",
       "      <td>41</td>\n",
       "      <td>0.365955</td>\n",
       "      <td>8</td>\n",
       "      <td>2</td>\n",
       "      <td>6</td>\n",
       "      <td>6</td>\n",
       "      <td>1274776</td>\n",
       "      <td>116368</td>\n",
       "      <td>147456</td>\n",
       "      <td>16704</td>\n",
       "      <td>17560</td>\n",
       "      <td>0</td>\n",
       "      <td>1572864</td>\n",
       "    </tr>\n",
       "    <tr>\n",
       "      <th>5</th>\n",
       "      <td>51</td>\n",
       "      <td>0.533924</td>\n",
       "      <td>8</td>\n",
       "      <td>2</td>\n",
       "      <td>6</td>\n",
       "      <td>6</td>\n",
       "      <td>1274776</td>\n",
       "      <td>116368</td>\n",
       "      <td>147456</td>\n",
       "      <td>16704</td>\n",
       "      <td>17560</td>\n",
       "      <td>0</td>\n",
       "      <td>1572864</td>\n",
       "    </tr>\n",
       "    <tr>\n",
       "      <th>6</th>\n",
       "      <td>61</td>\n",
       "      <td>0.594900</td>\n",
       "      <td>8</td>\n",
       "      <td>2</td>\n",
       "      <td>6</td>\n",
       "      <td>6</td>\n",
       "      <td>1274776</td>\n",
       "      <td>116368</td>\n",
       "      <td>147456</td>\n",
       "      <td>16704</td>\n",
       "      <td>17560</td>\n",
       "      <td>0</td>\n",
       "      <td>1572864</td>\n",
       "    </tr>\n",
       "    <tr>\n",
       "      <th>7</th>\n",
       "      <td>71</td>\n",
       "      <td>0.861418</td>\n",
       "      <td>8</td>\n",
       "      <td>2</td>\n",
       "      <td>6</td>\n",
       "      <td>6</td>\n",
       "      <td>1274776</td>\n",
       "      <td>116368</td>\n",
       "      <td>147456</td>\n",
       "      <td>16704</td>\n",
       "      <td>17560</td>\n",
       "      <td>0</td>\n",
       "      <td>1572864</td>\n",
       "    </tr>\n",
       "    <tr>\n",
       "      <th>8</th>\n",
       "      <td>81</td>\n",
       "      <td>0.901249</td>\n",
       "      <td>8</td>\n",
       "      <td>2</td>\n",
       "      <td>6</td>\n",
       "      <td>6</td>\n",
       "      <td>1274776</td>\n",
       "      <td>116368</td>\n",
       "      <td>147456</td>\n",
       "      <td>16704</td>\n",
       "      <td>17560</td>\n",
       "      <td>0</td>\n",
       "      <td>1572864</td>\n",
       "    </tr>\n",
       "    <tr>\n",
       "      <th>9</th>\n",
       "      <td>91</td>\n",
       "      <td>1.154293</td>\n",
       "      <td>8</td>\n",
       "      <td>2</td>\n",
       "      <td>6</td>\n",
       "      <td>6</td>\n",
       "      <td>1274776</td>\n",
       "      <td>116368</td>\n",
       "      <td>147456</td>\n",
       "      <td>16704</td>\n",
       "      <td>17560</td>\n",
       "      <td>0</td>\n",
       "      <td>1572864</td>\n",
       "    </tr>\n",
       "  </tbody>\n",
       "</table>\n",
       "</div>"
      ],
      "text/plain": [
       "   batch       time  allocated  reclaimed  highwater  curr_allocated  \\\n",
       "0      1  63.963441          8          2          6               6   \n",
       "1     11   0.057733          8          2          6               6   \n",
       "2     21   0.169940          8          2          6               6   \n",
       "3     31   0.315352          8          2          6               6   \n",
       "4     41   0.365955          8          2          6               6   \n",
       "5     51   0.533924          8          2          6               6   \n",
       "6     61   0.594900          8          2          6               6   \n",
       "7     71   0.861418          8          2          6               6   \n",
       "8     81   0.901249          8          2          6               6   \n",
       "9     91   1.154293          8          2          6               6   \n",
       "\n",
       "   b_allocate_clocks  b_available_blocks  b_unused_pools  b_lost_pool_headers  \\\n",
       "0            1274776              116368          147456                16704   \n",
       "1            1274776              116368          147456                16704   \n",
       "2            1274776              116368          147456                16704   \n",
       "3            1274776              116368          147456                16704   \n",
       "4            1274776              116368          147456                16704   \n",
       "5            1274776              116368          147456                16704   \n",
       "6            1274776              116368          147456                16704   \n",
       "7            1274776              116368          147456                16704   \n",
       "8            1274776              116368          147456                16704   \n",
       "9            1274776              116368          147456                16704   \n",
       "\n",
       "   b_lost_quantization  b_lost_arena_alignment    total  \n",
       "0                17560                       0  1572864  \n",
       "1                17560                       0  1572864  \n",
       "2                17560                       0  1572864  \n",
       "3                17560                       0  1572864  \n",
       "4                17560                       0  1572864  \n",
       "5                17560                       0  1572864  \n",
       "6                17560                       0  1572864  \n",
       "7                17560                       0  1572864  \n",
       "8                17560                       0  1572864  \n",
       "9                17560                       0  1572864  "
      ]
     },
     "execution_count": 10,
     "metadata": {},
     "output_type": "execute_result"
    }
   ],
   "source": [
    "pd.DataFrame(res, columns=[\"batch\", \"time\"]).merge(df, left_index=True, right_index=True, how='outer')"
   ]
  },
  {
   "cell_type": "code",
   "execution_count": 11,
   "metadata": {
    "collapsed": false
   },
   "outputs": [
    {
     "data": {
      "text/plain": [
       "size            0\n",
       "n_pools         0\n",
       "use_blocks      0\n",
       "avail_blocks    0\n",
       "dtype: int64"
      ]
     },
     "execution_count": 11,
     "metadata": {},
     "output_type": "execute_result"
    }
   ],
   "source": [
    "(_df_blocks - df_blocks_start).sum()"
   ]
  },
  {
   "cell_type": "code",
   "execution_count": null,
   "metadata": {
    "collapsed": true
   },
   "outputs": [],
   "source": []
  },
  {
   "cell_type": "code",
   "execution_count": null,
   "metadata": {
    "collapsed": true
   },
   "outputs": [],
   "source": [
    "_df_blocks.plot"
   ]
  },
  {
   "cell_type": "code",
   "execution_count": null,
   "metadata": {
    "collapsed": true
   },
   "outputs": [],
   "source": []
  },
  {
   "cell_type": "code",
   "execution_count": null,
   "metadata": {
    "collapsed": true
   },
   "outputs": [],
   "source": []
  },
  {
   "cell_type": "code",
   "execution_count": null,
   "metadata": {
    "collapsed": true
   },
   "outputs": [],
   "source": []
  },
  {
   "cell_type": "code",
   "execution_count": null,
   "metadata": {
    "collapsed": true
   },
   "outputs": [],
   "source": []
  },
  {
   "cell_type": "code",
   "execution_count": null,
   "metadata": {
    "collapsed": true
   },
   "outputs": [],
   "source": []
  }
 ],
 "metadata": {
  "kernelspec": {
   "display_name": "Python 3",
   "language": "python",
   "name": "python3"
  },
  "language_info": {
   "codemirror_mode": {
    "name": "ipython",
    "version": 3
   },
   "file_extension": ".py",
   "mimetype": "text/x-python",
   "name": "python",
   "nbconvert_exporter": "python",
   "pygments_lexer": "ipython3",
   "version": "3.4.3"
  }
 },
 "nbformat": 4,
 "nbformat_minor": 0
}
